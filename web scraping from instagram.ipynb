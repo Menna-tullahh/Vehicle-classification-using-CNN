{
 "cells": [
  {
   "cell_type": "code",
   "execution_count": 1,
   "metadata": {},
   "outputs": [],
   "source": [
    "from selenium import webdriver\n",
    "from selenium.webdriver.common.keys import Keys\n",
    "from selenium.webdriver.support import expected_conditions as EC\n",
    "from selenium.webdriver.common.by import By\n",
    "from selenium.webdriver.support.wait import WebDriverWait\n"
   ]
  },
  {
   "cell_type": "code",
   "execution_count": 2,
   "metadata": {},
   "outputs": [],
   "source": [
    "import os\n",
    "import time\n",
    "import wget\n",
    "import numpy as np"
   ]
  },
  {
   "cell_type": "code",
   "execution_count": 3,
   "metadata": {},
   "outputs": [],
   "source": [
    "driver = webdriver.Chrome(\"C:/chromedriver_win32/chromedriver.exe\")\n",
    "driver.get(\"https://www.instagram.com/\")"
   ]
  },
  {
   "cell_type": "code",
   "execution_count": 4,
   "metadata": {},
   "outputs": [],
   "source": [
    "username = WebDriverWait(driver, 10).until(\n",
    "    EC.element_to_be_clickable((\n",
    "        By.CSS_SELECTOR, \"input[name='username']\")))\n",
    "\n",
    "password = WebDriverWait(driver, 10).until(\n",
    "    EC.element_to_be_clickable((\n",
    "        By.CSS_SELECTOR, \"input[name='password']\")))\n",
    "\n",
    "username.clear()\n",
    "password.clear()\n",
    "username.send_keys(\"\")\n",
    "password.send_keys(\"\")\n"
   ]
  },
  {
   "cell_type": "code",
   "execution_count": 5,
   "metadata": {},
   "outputs": [],
   "source": [
    "login = WebDriverWait(driver, 10).until(\n",
    "    EC.element_to_be_clickable((\n",
    "        By.CSS_SELECTOR, \"button[type='submit']\"))).click()"
   ]
  },
  {
   "cell_type": "code",
   "execution_count": 6,
   "metadata": {},
   "outputs": [],
   "source": [
    "not_now = WebDriverWait(driver, 10).until(\n",
    "    EC.element_to_be_clickable((\n",
    "        By.XPATH, \"//button[contains(text(), 'Not Now')]\"))).click()\n"
   ]
  },
  {
   "cell_type": "code",
   "execution_count": 7,
   "metadata": {},
   "outputs": [],
   "source": [
    "\n",
    "not_now2 = WebDriverWait(driver, 10).until(\n",
    "    EC.element_to_be_clickable((\n",
    "        By.XPATH, \"//button[contains(text(), 'Not Now')]\"))).click()"
   ]
  },
  {
   "cell_type": "code",
   "execution_count": 194,
   "metadata": {},
   "outputs": [
    {
     "name": "stdout",
     "output_type": "stream",
     "text": [
      " :1: \n",
      "100% [............................................................................] 341816 / 341816 :2: \n",
      "100% [............................................................................] 522902 / 522902 :3: \n",
      "100% [............................................................................] 169184 / 169184 :4: \n",
      "100% [..............................................................................] 76943 / 76943 :5: \n",
      "100% [............................................................................] 119259 / 119259 :6: \n",
      "100% [............................................................................] 108930 / 108930 :7: \n",
      "100% [............................................................................] 364408 / 364408 :8: \n",
      "100% [..............................................................................] 91711 / 91711 :9: \n",
      "100% [............................................................................] 141862 / 141862 :10: \n",
      "100% [............................................................................] 205488 / 205488 :11: \n",
      "100% [..............................................................................] 36506 / 36506 :12: \n",
      "100% [............................................................................] 413276 / 413276 :13: \n",
      "100% [..............................................................................] 52480 / 52480 :14: \n",
      "100% [............................................................................] 130370 / 130370 :15: \n",
      "100% [............................................................................] 222913 / 222913 :16: \n",
      "100% [............................................................................] 184556 / 184556 :17: \n",
      "100% [............................................................................] 354243 / 354243 :18: \n",
      "100% [..............................................................................] 50213 / 50213 :19: \n",
      "100% [..............................................................................] 83559 / 83559 :20: \n",
      "100% [............................................................................] 127330 / 127330 :21: \n",
      "100% [............................................................................] 155593 / 155593 :22: \n",
      "100% [............................................................................] 174969 / 174969 :23: \n",
      "100% [............................................................................] 118428 / 118428 :24: \n",
      "100% [............................................................................] 266104 / 266104 :25: \n",
      "100% [............................................................................] 295412 / 295412 :26: \n",
      "100% [............................................................................] 113286 / 113286 :27: \n",
      "100% [............................................................................] 277085 / 277085 :28: \n",
      "100% [..............................................................................] 67159 / 67159 :29: \n",
      "100% [............................................................................] 177029 / 177029 :30: \n",
      "100% [............................................................................] 225235 / 225235\n",
      "bus is Done\n"
     ]
    }
   ],
   "source": [
    "classes = ['#car', '#motorcycle', '#bus', '#plane', '#railway', '#bicycle']\n",
    "for c in classes:\n",
    "    path = os.getcwd()\n",
    "    searchBox = WebDriverWait(driver, 10).until(\n",
    "    EC.element_to_be_clickable(\n",
    "    (By.XPATH,\"//input[@placeholder='Search']\")))\n",
    "    searchBox.clear()\n",
    "    searchBox.send_keys(c)\n",
    "    time.sleep(2)\n",
    "    selection = WebDriverWait(driver, 10).until(\n",
    "        EC.element_to_be_clickable((\n",
    "        By.CSS_SELECTOR, \"a[class='-qQT3']\"))).click()\n",
    "    screen_height = driver.execute_script(\"return window.screen.height;\") \n",
    "    i = 0\n",
    "    path = os.path.join(path, c[1:])\n",
    "    os.mkdir(path)\n",
    "    counter = 0\n",
    "    endloop = 0\n",
    "\n",
    "\n",
    "    while endloop < 30:\n",
    "       \n",
    "        endloop +=1\n",
    "        print(\" :\" + str(endloop) + \": \")\n",
    "        driver.execute_script(\"window.scrollTo(0, {screen_height}+{i});\".format(screen_height=screen_height, i=i))  \n",
    "        i += 10000\n",
    "        time.sleep(5)\n",
    "        images = driver.find_elements_by_tag_name('img')\n",
    "        if (endloop == 1):\n",
    "            images = [images[i].get_attribute('src') for i in range(1,len(images)-2)]\n",
    "        else:\n",
    "            images = [images[i].get_attribute('src') for i in range(10,len(images)-2)] \n",
    "        for image in images:\n",
    "            save_as = os.path.join(path, c[1:] + str(counter) + '.jpg')\n",
    "            wget.download(image, save_as)\n",
    "            counter +=1\n",
    "        scroll_height = driver.execute_script(\"return document.body.scrollHeight;\")  \n",
    "        \n",
    "    print(\"\\n\" + c[1:] + \" is Done\")"
   ]
  },
  {
   "cell_type": "code",
   "execution_count": null,
   "metadata": {},
   "outputs": [],
   "source": [
    "864"
   ]
  }
 ],
 "metadata": {
  "kernelspec": {
   "display_name": "Python 3",
   "language": "python",
   "name": "python3"
  },
  "language_info": {
   "codemirror_mode": {
    "name": "ipython",
    "version": 3
   },
   "file_extension": ".py",
   "mimetype": "text/x-python",
   "name": "python",
   "nbconvert_exporter": "python",
   "pygments_lexer": "ipython3",
   "version": "3.7.4"
  }
 },
 "nbformat": 4,
 "nbformat_minor": 2
}
